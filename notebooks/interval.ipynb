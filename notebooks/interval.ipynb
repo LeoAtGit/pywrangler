{
 "cells": [
  {
   "cell_type": "code",
   "execution_count": 1,
   "metadata": {},
   "outputs": [],
   "source": [
    "%load_ext autoreload\n",
    "%autoreload 2"
   ]
  },
  {
   "cell_type": "code",
   "execution_count": 2,
   "metadata": {},
   "outputs": [],
   "source": [
    "import sys\n",
    "import pandas as pd\n",
    "\n",
    "from pyspark.sql import functions as F\n",
    "from pyspark.sql import SparkSession, Window\n",
    "from pyspark.sql.types import IntegerType, NullType\n",
    "\n",
    "\n",
    "from pywrangler.pyspark.wranglers import interval_identifier"
   ]
  },
  {
   "cell_type": "code",
   "execution_count": 3,
   "metadata": {},
   "outputs": [],
   "source": [
    "PATH = r\"C:\\Users\\rasboldt\\Desktop\\software\\pywrangler\\notebooks\\oscillation_timeseries.csv\""
   ]
  },
  {
   "cell_type": "code",
   "execution_count": 4,
   "metadata": {},
   "outputs": [],
   "source": [
    "spark = SparkSession.Builder().appName(\"Oscillation\").getOrCreate()"
   ]
  },
  {
   "cell_type": "code",
   "execution_count": 5,
   "metadata": {},
   "outputs": [],
   "source": [
    "df_all = spark.read.csv(PATH, sep=\";\", header=True)"
   ]
  },
  {
   "cell_type": "code",
   "execution_count": 6,
   "metadata": {},
   "outputs": [],
   "source": [
    "df = df_all.select(\"machinenumber\", \"timestamp\", \"state\")\\\n",
    "           .withColumn(\"timestamp\", F.col(\"timestamp\").cast(IntegerType()))"
   ]
  },
  {
   "cell_type": "code",
   "execution_count": 7,
   "metadata": {},
   "outputs": [
    {
     "name": "stdout",
     "output_type": "stream",
     "text": [
      "+-------------+---------+-----+\n",
      "|machinenumber|timestamp|state|\n",
      "+-------------+---------+-----+\n",
      "|Bla          |1        |ende |\n",
      "|Bla          |2        |noise|\n",
      "|Bla          |3        |start|\n",
      "|Bla          |4        |noise|\n",
      "|Bla          |5        |noise|\n",
      "|Bla          |6        |ende |\n",
      "|Bla          |7        |start|\n",
      "|Bla          |8        |start|\n",
      "|Bla          |9        |noise|\n",
      "|Bla          |10       |noise|\n",
      "|Bla          |11       |start|\n",
      "|Bla          |12       |ende |\n",
      "|Bla          |13       |noise|\n",
      "|Bla          |14       |noise|\n",
      "|Bla          |15       |start|\n",
      "|Bla          |16       |ende |\n",
      "|Bla          |17       |start|\n",
      "|Bla          |18       |start|\n",
      "|Bla          |19       |noise|\n",
      "|Bla          |20       |noise|\n",
      "|Bla          |21       |ende |\n",
      "|Bla          |22       |noise|\n",
      "|Bla          |23       |noise|\n",
      "|Bla          |24       |ende |\n",
      "|Bla          |25       |start|\n",
      "|Bla          |26       |ende |\n",
      "|Bla          |27       |noise|\n",
      "|Bla          |28       |ende |\n",
      "|Bla          |29       |ende |\n",
      "|Bla          |30       |noise|\n",
      "|Bla          |31       |start|\n",
      "|Bla          |32       |ende |\n",
      "+-------------+---------+-----+\n",
      "only showing top 32 rows\n",
      "\n"
     ]
    }
   ],
   "source": [
    "df.show(32, False)"
   ]
  },
  {
   "cell_type": "code",
   "execution_count": 8,
   "metadata": {},
   "outputs": [],
   "source": [
    "sequence = interval_identifier.VectorizedCumSum(marker_column=\"state\", \n",
    "                                     marker_start=\"start\", \n",
    "                                     marker_end=\"ende\", \n",
    "                                     order_columns=[\"timestamp\"], \n",
    "                                     groupby_columns=[\"machinenumber\"])"
   ]
  },
  {
   "cell_type": "code",
   "execution_count": 9,
   "metadata": {},
   "outputs": [],
   "source": [
    "df_seq = sequence.transform(df)"
   ]
  },
  {
   "cell_type": "code",
   "execution_count": 10,
   "metadata": {},
   "outputs": [
    {
     "name": "stdout",
     "output_type": "stream",
     "text": [
      "+-------------+---------+-----+----+\n",
      "|machinenumber|timestamp|state|iids|\n",
      "+-------------+---------+-----+----+\n",
      "|null         |null     |null |0   |\n",
      "|null         |null     |null |0   |\n",
      "|null         |null     |null |0   |\n",
      "|Bla          |1        |ende |0   |\n",
      "|Bla          |2        |noise|0   |\n",
      "|Bla          |3        |start|1   |\n",
      "|Bla          |4        |noise|1   |\n",
      "|Bla          |5        |noise|1   |\n",
      "|Bla          |6        |ende |1   |\n",
      "|Bla          |7        |start|0   |\n",
      "|Bla          |8        |start|0   |\n",
      "|Bla          |9        |noise|0   |\n",
      "|Bla          |10       |noise|0   |\n",
      "|Bla          |11       |start|2   |\n",
      "|Bla          |12       |ende |2   |\n",
      "|Bla          |13       |noise|0   |\n",
      "|Bla          |14       |noise|0   |\n",
      "|Bla          |15       |start|3   |\n",
      "|Bla          |16       |ende |3   |\n",
      "|Bla          |17       |start|0   |\n",
      "|Bla          |18       |start|4   |\n",
      "|Bla          |19       |noise|4   |\n",
      "|Bla          |20       |noise|4   |\n",
      "|Bla          |21       |ende |4   |\n",
      "|Bla          |22       |noise|0   |\n",
      "|Bla          |23       |noise|0   |\n",
      "|Bla          |24       |ende |0   |\n",
      "|Bla          |25       |start|5   |\n",
      "|Bla          |26       |ende |5   |\n",
      "|Bla          |27       |noise|0   |\n",
      "|Bla          |28       |ende |0   |\n",
      "|Bla          |29       |ende |0   |\n",
      "|Bla          |30       |noise|0   |\n",
      "|Bla          |31       |start|6   |\n",
      "|Bla          |32       |ende |6   |\n",
      "+-------------+---------+-----+----+\n",
      "\n"
     ]
    }
   ],
   "source": [
    "df_seq.show(50, False)"
   ]
  },
  {
   "cell_type": "markdown",
   "metadata": {},
   "source": [
    "### Longest sequence (first start, last ende)"
   ]
  },
  {
   "cell_type": "code",
   "execution_count": 53,
   "metadata": {},
   "outputs": [],
   "source": [
    "# windows\n",
    "w_lag = Window.partitionBy(\"machinenumber\").orderBy(\"timestamp\")"
   ]
  },
  {
   "cell_type": "code",
   "execution_count": 54,
   "metadata": {},
   "outputs": [],
   "source": [
    "df = df.withColumn(\"start_ende\", F.when(df.state == \"start\", 1)\\\n",
    "                                  .when(df.state == \"ende\", 0).otherwise(None))\n",
    "# ffill\n",
    "filled_col = F.last(df.start_ende, ignorenulls=True).over(w_lag.rowsBetween(-sys.maxsize, 0))\n",
    "df = df.withColumn(\"start_ende_ffill\", filled_col)"
   ]
  },
  {
   "cell_type": "code",
   "execution_count": 55,
   "metadata": {},
   "outputs": [],
   "source": [
    "df = df.filter(df.machinenumber.isNotNull())"
   ]
  },
  {
   "cell_type": "code",
   "execution_count": 58,
   "metadata": {},
   "outputs": [],
   "source": [
    "df = df.withColumn(\"ffill_shift\", F.lag(\"start_ende_ffill\", default=0, count=1).over(w_lag).cast(IntegerType()))"
   ]
  },
  {
   "cell_type": "code",
   "execution_count": 62,
   "metadata": {},
   "outputs": [],
   "source": [
    "df = df.withColumn(\"start_and_ffill_shift\", F.when((F.col(\"state\") == \"start\") & \n",
    "                                                   (F.col(\"ffill_shift\") == 0), 1)\\\n",
    "                                             .otherwise(0))\\\n",
    "       .withColumn(\"series\", F.sum(\"start_and_ffill_shift\").over(w_lag)) "
   ]
  },
  {
   "cell_type": "code",
   "execution_count": 78,
   "metadata": {},
   "outputs": [],
   "source": [
    "# b_fill .rowsBetween(0,sys.maxsize) , First\n",
    "df = df.withColumn(\"f_start_l_ende\", F.when((df.state == \"noise\") & \n",
    "                                            (df.start_and_ffill_shift == 0), \n",
    "                                            None)\\\n",
    "                                      .otherwise(df.series))\n",
    "bfill_col = F.first(F.col(\"f_start_l_ende\"), ignorenulls=True)\\\n",
    "             .over(Window.partitionBy(\"machinenumber\", \"series\")\\\n",
    "                         .orderBy(\"timestamp\")\\\n",
    "                         .rowsBetween(0, sys.maxsize))\n",
    "df = df.withColumn(\"f_start_l_ende\", bfill_col)\n",
    "df = df.withColumn(\"f_start_l_ende\", F.when(F.isnull(df.f_start_l_ende), 0).otherwise(df.series))"
   ]
  },
  {
   "cell_type": "code",
   "execution_count": 79,
   "metadata": {},
   "outputs": [
    {
     "name": "stdout",
     "output_type": "stream",
     "text": [
      "+-------------+---------+-----+----------+----------------+-----------+---------------------+------+--------------+\n",
      "|machinenumber|timestamp|state|start_ende|start_ende_ffill|ffill_shift|start_and_ffill_shift|series|f_start_l_ende|\n",
      "+-------------+---------+-----+----------+----------------+-----------+---------------------+------+--------------+\n",
      "|Bla          |1        |ende |0         |0               |1          |0                    |0     |0             |\n",
      "|Bla          |2        |noise|null      |0               |0          |0                    |0     |0             |\n",
      "|Bla          |3        |start|1         |1               |0          |1                    |1     |1             |\n",
      "|Bla          |4        |noise|null      |1               |1          |0                    |1     |1             |\n",
      "|Bla          |5        |noise|null      |1               |1          |0                    |1     |1             |\n",
      "|Bla          |6        |ende |0         |0               |1          |0                    |1     |1             |\n",
      "|Bla          |7        |start|1         |1               |0          |1                    |2     |2             |\n",
      "|Bla          |8        |start|1         |1               |1          |0                    |2     |2             |\n",
      "|Bla          |9        |noise|null      |1               |1          |0                    |2     |2             |\n",
      "|Bla          |10       |noise|null      |1               |1          |0                    |2     |2             |\n",
      "|Bla          |11       |start|1         |1               |1          |0                    |2     |2             |\n",
      "|Bla          |12       |ende |0         |0               |1          |0                    |2     |2             |\n",
      "|Bla          |13       |noise|null      |0               |0          |0                    |2     |0             |\n",
      "|Bla          |14       |noise|null      |0               |0          |0                    |2     |0             |\n",
      "|Bla          |15       |start|1         |1               |0          |1                    |3     |3             |\n",
      "|Bla          |16       |ende |0         |0               |1          |0                    |3     |3             |\n",
      "|Bla          |17       |start|1         |1               |0          |1                    |4     |4             |\n",
      "|Bla          |18       |start|1         |1               |1          |0                    |4     |4             |\n",
      "|Bla          |19       |noise|null      |1               |1          |0                    |4     |4             |\n",
      "|Bla          |20       |noise|null      |1               |1          |0                    |4     |4             |\n",
      "|Bla          |21       |ende |0         |0               |1          |0                    |4     |4             |\n",
      "|Bla          |22       |noise|null      |0               |0          |0                    |4     |4             |\n",
      "|Bla          |23       |noise|null      |0               |0          |0                    |4     |4             |\n",
      "|Bla          |24       |ende |0         |0               |0          |0                    |4     |4             |\n",
      "|Bla          |25       |start|1         |1               |0          |1                    |5     |5             |\n",
      "|Bla          |26       |ende |0         |0               |1          |0                    |5     |5             |\n",
      "|Bla          |27       |noise|null      |0               |0          |0                    |5     |5             |\n",
      "|Bla          |28       |ende |0         |0               |0          |0                    |5     |5             |\n",
      "|Bla          |29       |ende |0         |0               |0          |0                    |5     |5             |\n",
      "|Bla          |30       |noise|null      |0               |0          |0                    |5     |0             |\n",
      "|Bla          |31       |start|1         |1               |0          |1                    |6     |6             |\n",
      "|Bla          |32       |ende |0         |0               |1          |0                    |6     |6             |\n",
      "+-------------+---------+-----+----------+----------------+-----------+---------------------+------+--------------+\n",
      "\n"
     ]
    }
   ],
   "source": [
    "df.select(\"machinenumber\", \"timestamp\", \"state\", \"start_ende\", \"start_ende_ffill\", \n",
    "          \"ffill_shift\", \"start_and_ffill_shift\", \"series\", \"f_start_l_ende\").show(50, False)"
   ]
  },
  {
   "cell_type": "markdown",
   "metadata": {},
   "source": [
    "### First start, First ende"
   ]
  },
  {
   "cell_type": "code",
   "execution_count": 83,
   "metadata": {},
   "outputs": [],
   "source": [
    "df = df.withColumn(\"f_start_f_ende\", F.when((df.start_ende_ffill == 0) & \n",
    "                                            (df.ffill_shift == 0), \n",
    "                                            0).otherwise(df.series))"
   ]
  },
  {
   "cell_type": "code",
   "execution_count": 84,
   "metadata": {},
   "outputs": [
    {
     "name": "stdout",
     "output_type": "stream",
     "text": [
      "+-------------+---------+-----+----------+----------------+-----------+---------------------+------+--------------+\n",
      "|machinenumber|timestamp|state|start_ende|start_ende_ffill|ffill_shift|start_and_ffill_shift|series|f_start_f_ende|\n",
      "+-------------+---------+-----+----------+----------------+-----------+---------------------+------+--------------+\n",
      "|Bla          |1        |ende |0         |0               |1          |0                    |0     |0             |\n",
      "|Bla          |2        |noise|null      |0               |0          |0                    |0     |0             |\n",
      "|Bla          |3        |start|1         |1               |0          |1                    |1     |1             |\n",
      "|Bla          |4        |noise|null      |1               |1          |0                    |1     |1             |\n",
      "|Bla          |5        |noise|null      |1               |1          |0                    |1     |1             |\n",
      "|Bla          |6        |ende |0         |0               |1          |0                    |1     |1             |\n",
      "|Bla          |7        |start|1         |1               |0          |1                    |2     |2             |\n",
      "|Bla          |8        |start|1         |1               |1          |0                    |2     |2             |\n",
      "|Bla          |9        |noise|null      |1               |1          |0                    |2     |2             |\n",
      "|Bla          |10       |noise|null      |1               |1          |0                    |2     |2             |\n",
      "|Bla          |11       |start|1         |1               |1          |0                    |2     |2             |\n",
      "|Bla          |12       |ende |0         |0               |1          |0                    |2     |2             |\n",
      "|Bla          |13       |noise|null      |0               |0          |0                    |2     |0             |\n",
      "|Bla          |14       |noise|null      |0               |0          |0                    |2     |0             |\n",
      "|Bla          |15       |start|1         |1               |0          |1                    |3     |3             |\n",
      "|Bla          |16       |ende |0         |0               |1          |0                    |3     |3             |\n",
      "|Bla          |17       |start|1         |1               |0          |1                    |4     |4             |\n",
      "|Bla          |18       |start|1         |1               |1          |0                    |4     |4             |\n",
      "|Bla          |19       |noise|null      |1               |1          |0                    |4     |4             |\n",
      "|Bla          |20       |noise|null      |1               |1          |0                    |4     |4             |\n",
      "|Bla          |21       |ende |0         |0               |1          |0                    |4     |4             |\n",
      "|Bla          |22       |noise|null      |0               |0          |0                    |4     |0             |\n",
      "|Bla          |23       |noise|null      |0               |0          |0                    |4     |0             |\n",
      "|Bla          |24       |ende |0         |0               |0          |0                    |4     |0             |\n",
      "|Bla          |25       |start|1         |1               |0          |1                    |5     |5             |\n",
      "|Bla          |26       |ende |0         |0               |1          |0                    |5     |5             |\n",
      "|Bla          |27       |noise|null      |0               |0          |0                    |5     |0             |\n",
      "|Bla          |28       |ende |0         |0               |0          |0                    |5     |0             |\n",
      "|Bla          |29       |ende |0         |0               |0          |0                    |5     |0             |\n",
      "|Bla          |30       |noise|null      |0               |0          |0                    |5     |0             |\n",
      "|Bla          |31       |start|1         |1               |0          |1                    |6     |6             |\n",
      "|Bla          |32       |ende |0         |0               |1          |0                    |6     |6             |\n",
      "+-------------+---------+-----+----------+----------------+-----------+---------------------+------+--------------+\n",
      "\n"
     ]
    }
   ],
   "source": [
    "df.select(\"machinenumber\", \"timestamp\", \"state\", \"start_ende\", \"start_ende_ffill\", \n",
    "          \"ffill_shift\", \"start_and_ffill_shift\", \"series\", \"f_start_f_ende\").show(50, False)"
   ]
  },
  {
   "cell_type": "markdown",
   "metadata": {},
   "source": [
    "### Last start, last ende"
   ]
  },
  {
   "cell_type": "code",
   "execution_count": 85,
   "metadata": {},
   "outputs": [],
   "source": [
    "# b_fill .rowsBetween(0,sys.maxsize) , First\n",
    "df = df.withColumn(\"l_start_l_ende\", F.when((df.state == \"noise\") & \n",
    "                                            (df.start_and_ffill_shift == 0), \n",
    "                                            None)\\\n",
    "                                      .otherwise(df.series))\n",
    "bfill_col = F.first(F.col(\"l_start_l_ende\"), ignorenulls=True)\\\n",
    "             .over(Window.partitionBy(\"machinenumber\", \"series\")\\\n",
    "                         .orderBy(\"timestamp\")\\\n",
    "                         .rowsBetween(0, sys.maxsize))\n",
    "df = df.withColumn(\"l_start_l_ende\", bfill_col)"
   ]
  },
  {
   "cell_type": "code",
   "execution_count": 87,
   "metadata": {},
   "outputs": [],
   "source": [
    "df = df.withColumn(\"l_start_l_ende\", F.when(F.isnull(df.l_start_l_ende), 0).otherwise(df.series))"
   ]
  },
  {
   "cell_type": "code",
   "execution_count": 93,
   "metadata": {},
   "outputs": [],
   "source": [
    "# bfill start 0\n",
    "max_start = F.max(F.col(\"timestamp\") == \"start\").over(Window.partitionBy(\"machinenumber\", \"series\").orderBy(\"timestamp\"))\n",
    "#df = df.withColumn(\"max_start\", F.max)"
   ]
  },
  {
   "cell_type": "code",
   "execution_count": 94,
   "metadata": {},
   "outputs": [],
   "source": [
    "df = df.withColumn(\"max_start\", max_start)"
   ]
  },
  {
   "cell_type": "code",
   "execution_count": 96,
   "metadata": {},
   "outputs": [
    {
     "name": "stdout",
     "output_type": "stream",
     "text": [
      "+-------------+---------+-----+---------+\n",
      "|machinenumber|timestamp|state|max_start|\n",
      "+-------------+---------+-----+---------+\n",
      "|Bla          |1        |ende |false    |\n",
      "|Bla          |2        |noise|false    |\n",
      "|Bla          |3        |start|true     |\n",
      "|Bla          |4        |noise|true     |\n",
      "|Bla          |5        |noise|true     |\n",
      "|Bla          |6        |ende |true     |\n",
      "|Bla          |7        |start|true     |\n",
      "|Bla          |8        |start|true     |\n",
      "|Bla          |9        |noise|true     |\n",
      "|Bla          |10       |noise|true     |\n",
      "|Bla          |11       |start|true     |\n",
      "|Bla          |12       |ende |true     |\n",
      "|Bla          |13       |noise|true     |\n",
      "|Bla          |14       |noise|true     |\n",
      "|Bla          |15       |start|true     |\n",
      "|Bla          |16       |ende |true     |\n",
      "|Bla          |17       |start|true     |\n",
      "|Bla          |18       |start|true     |\n",
      "|Bla          |19       |noise|true     |\n",
      "|Bla          |20       |noise|true     |\n",
      "|Bla          |21       |ende |true     |\n",
      "|Bla          |22       |noise|true     |\n",
      "|Bla          |23       |noise|true     |\n",
      "|Bla          |24       |ende |true     |\n",
      "|Bla          |25       |start|true     |\n",
      "|Bla          |26       |ende |true     |\n",
      "|Bla          |27       |noise|true     |\n",
      "|Bla          |28       |ende |true     |\n",
      "|Bla          |29       |ende |true     |\n",
      "|Bla          |30       |noise|true     |\n",
      "|Bla          |31       |start|true     |\n",
      "|Bla          |32       |ende |true     |\n",
      "+-------------+---------+-----+---------+\n",
      "\n"
     ]
    }
   ],
   "source": [
    "df.select(\"machinenumber\", \"timestamp\", \"state\", \"max_start\").show(50, False)"
   ]
  },
  {
   "cell_type": "code",
   "execution_count": 88,
   "metadata": {},
   "outputs": [
    {
     "name": "stdout",
     "output_type": "stream",
     "text": [
      "+-------------+---------+-----+----------+----------------+-----------+---------------------+------+--------------+\n",
      "|machinenumber|timestamp|state|start_ende|start_ende_ffill|ffill_shift|start_and_ffill_shift|series|l_start_l_ende|\n",
      "+-------------+---------+-----+----------+----------------+-----------+---------------------+------+--------------+\n",
      "|Bla          |1        |ende |0         |0               |1          |0                    |0     |0             |\n",
      "|Bla          |2        |noise|null      |0               |0          |0                    |0     |0             |\n",
      "|Bla          |3        |start|1         |1               |0          |1                    |1     |1             |\n",
      "|Bla          |4        |noise|null      |1               |1          |0                    |1     |1             |\n",
      "|Bla          |5        |noise|null      |1               |1          |0                    |1     |1             |\n",
      "|Bla          |6        |ende |0         |0               |1          |0                    |1     |1             |\n",
      "|Bla          |7        |start|1         |1               |0          |1                    |2     |2             |\n",
      "|Bla          |8        |start|1         |1               |1          |0                    |2     |2             |\n",
      "|Bla          |9        |noise|null      |1               |1          |0                    |2     |2             |\n",
      "|Bla          |10       |noise|null      |1               |1          |0                    |2     |2             |\n",
      "|Bla          |11       |start|1         |1               |1          |0                    |2     |2             |\n",
      "|Bla          |12       |ende |0         |0               |1          |0                    |2     |2             |\n",
      "|Bla          |13       |noise|null      |0               |0          |0                    |2     |0             |\n",
      "|Bla          |14       |noise|null      |0               |0          |0                    |2     |0             |\n",
      "|Bla          |15       |start|1         |1               |0          |1                    |3     |3             |\n",
      "|Bla          |16       |ende |0         |0               |1          |0                    |3     |3             |\n",
      "|Bla          |17       |start|1         |1               |0          |1                    |4     |4             |\n",
      "|Bla          |18       |start|1         |1               |1          |0                    |4     |4             |\n",
      "|Bla          |19       |noise|null      |1               |1          |0                    |4     |4             |\n",
      "|Bla          |20       |noise|null      |1               |1          |0                    |4     |4             |\n",
      "|Bla          |21       |ende |0         |0               |1          |0                    |4     |4             |\n",
      "|Bla          |22       |noise|null      |0               |0          |0                    |4     |4             |\n",
      "|Bla          |23       |noise|null      |0               |0          |0                    |4     |4             |\n",
      "|Bla          |24       |ende |0         |0               |0          |0                    |4     |4             |\n",
      "|Bla          |25       |start|1         |1               |0          |1                    |5     |5             |\n",
      "|Bla          |26       |ende |0         |0               |1          |0                    |5     |5             |\n",
      "|Bla          |27       |noise|null      |0               |0          |0                    |5     |5             |\n",
      "|Bla          |28       |ende |0         |0               |0          |0                    |5     |5             |\n",
      "|Bla          |29       |ende |0         |0               |0          |0                    |5     |5             |\n",
      "|Bla          |30       |noise|null      |0               |0          |0                    |5     |0             |\n",
      "|Bla          |31       |start|1         |1               |0          |1                    |6     |6             |\n",
      "|Bla          |32       |ende |0         |0               |1          |0                    |6     |6             |\n",
      "+-------------+---------+-----+----------+----------------+-----------+---------------------+------+--------------+\n",
      "\n"
     ]
    }
   ],
   "source": [
    "df.select(\"machinenumber\", \"timestamp\", \"state\", \"start_ende\", \"start_ende_ffill\", \n",
    "          \"ffill_shift\", \"start_and_ffill_shift\", \"series\", \"l_start_l_ende\").show(50, False)"
   ]
  },
  {
   "cell_type": "code",
   "execution_count": null,
   "metadata": {},
   "outputs": [],
   "source": []
  },
  {
   "cell_type": "code",
   "execution_count": null,
   "metadata": {},
   "outputs": [],
   "source": []
  },
  {
   "cell_type": "code",
   "execution_count": null,
   "metadata": {},
   "outputs": [],
   "source": []
  },
  {
   "cell_type": "code",
   "execution_count": null,
   "metadata": {},
   "outputs": [],
   "source": []
  },
  {
   "cell_type": "markdown",
   "metadata": {},
   "source": [
    "### First start, First ende"
   ]
  },
  {
   "cell_type": "code",
   "execution_count": 177,
   "metadata": {},
   "outputs": [],
   "source": [
    "# bitwise AND: ende & ende_shift+\n",
    "df = df.withColumn(\"ser_f_start_f_ende\", df.ser.cast(IntegerType()))"
   ]
  },
  {
   "cell_type": "code",
   "execution_count": 178,
   "metadata": {},
   "outputs": [],
   "source": [
    "df = df.withColumn(\"ser_f_start_f_ende\", F.when(df.ende.bitwiseAND(df.ende_shift) == 1, 0)\\\n",
    "                                          .otherwise(df.ser_f_start_f_ende.cast(IntegerType())))"
   ]
  },
  {
   "cell_type": "code",
   "execution_count": 213,
   "metadata": {},
   "outputs": [
    {
     "name": "stdout",
     "output_type": "stream",
     "text": [
      "+-------------+---------+-----+------------------+-----+----+----------+\n",
      "|machinenumber|timestamp|state|ser_f_start_f_ende|start|ende|ende_shift|\n",
      "+-------------+---------+-----+------------------+-----+----+----------+\n",
      "|Bla          |1        |ende |0                 |0    |1   |1         |\n",
      "|Bla          |2        |start|1                 |1    |0   |1         |\n",
      "|Bla          |3        |ende |1                 |0    |1   |0         |\n",
      "|Bla          |4        |start|2                 |1    |0   |1         |\n",
      "|Bla          |5        |start|2                 |1    |0   |0         |\n",
      "|Bla          |6        |start|2                 |1    |0   |0         |\n",
      "|Bla          |7        |ende |2                 |0    |1   |0         |\n",
      "|Bla          |8        |start|3                 |1    |0   |1         |\n",
      "|Bla          |9        |ende |3                 |0    |1   |0         |\n",
      "|Bla          |10       |start|4                 |1    |0   |1         |\n",
      "|Bla          |11       |start|4                 |1    |0   |0         |\n",
      "|Bla          |12       |ende |4                 |0    |1   |0         |\n",
      "|Bla          |13       |ende |0                 |0    |1   |1         |\n",
      "|Bla          |14       |start|5                 |1    |0   |1         |\n",
      "|Bla          |15       |ende |5                 |0    |1   |0         |\n",
      "|Bla          |16       |ende |0                 |0    |1   |1         |\n",
      "|Bla          |17       |ende |0                 |0    |1   |1         |\n",
      "|Bla          |18       |start|6                 |1    |0   |1         |\n",
      "|Bla          |19       |ende |6                 |0    |1   |0         |\n",
      "+-------------+---------+-----+------------------+-----+----+----------+\n",
      "\n"
     ]
    }
   ],
   "source": [
    "df.select(\"machinenumber\", \"timestamp\", \"state\", \"ser_f_start_f_ende\", \"start\", \"ende\", \"ende_shift\").show(20, False)"
   ]
  },
  {
   "cell_type": "code",
   "execution_count": 181,
   "metadata": {},
   "outputs": [],
   "source": [
    "df = df.withColumn(\"ser\", df.ser.cast(IntegerType()))"
   ]
  },
  {
   "cell_type": "code",
   "execution_count": 182,
   "metadata": {},
   "outputs": [
    {
     "data": {
      "text/plain": [
       "[('machinenumber', 'string'),\n",
       " ('timestamp', 'int'),\n",
       " ('state', 'string'),\n",
       " ('start', 'int'),\n",
       " ('ende', 'int'),\n",
       " ('ende_shift', 'int'),\n",
       " ('start_ende', 'int'),\n",
       " ('start_ende_shift', 'int'),\n",
       " ('ser', 'int'),\n",
       " ('ser_f_start_f_ende', 'int')]"
      ]
     },
     "execution_count": 182,
     "metadata": {},
     "output_type": "execute_result"
    }
   ],
   "source": [
    "df.dtypes"
   ]
  },
  {
   "cell_type": "markdown",
   "metadata": {},
   "source": [
    "### Last start, last ende"
   ]
  },
  {
   "cell_type": "code",
   "execution_count": 200,
   "metadata": {},
   "outputs": [],
   "source": [
    "# shift start -1\n",
    "df = df.withColumn(\"start_shift-\", F.lag(df.start, default=0, count=-1).over(w_lag).cast(IntegerType()))\\\n",
    "       .withColumn(\"ser_l_start_l_ende\", df.ser.cast(IntegerType()))"
   ]
  },
  {
   "cell_type": "code",
   "execution_count": 201,
   "metadata": {},
   "outputs": [],
   "source": [
    "df = df.withColumn(\"ser_l_start_l_ende\", F.when((F.col(\"start\") == 1) & \\\n",
    "                                                (F.col(\"start_shift-\") == 1), 0)\\\n",
    "                                          .otherwise(df.ser.cast(IntegerType())))"
   ]
  },
  {
   "cell_type": "code",
   "execution_count": 207,
   "metadata": {},
   "outputs": [
    {
     "name": "stdout",
     "output_type": "stream",
     "text": [
      "+-------------+---------+-----+------------------+\n",
      "|machinenumber|timestamp|state|ser_l_start_l_ende|\n",
      "+-------------+---------+-----+------------------+\n",
      "|Bla          |1        |ende |0                 |\n",
      "|Bla          |2        |start|1                 |\n",
      "|Bla          |3        |ende |1                 |\n",
      "|Bla          |4        |start|0                 |\n",
      "|Bla          |5        |start|0                 |\n",
      "|Bla          |6        |start|2                 |\n",
      "|Bla          |7        |ende |2                 |\n",
      "|Bla          |8        |start|3                 |\n",
      "|Bla          |9        |ende |3                 |\n",
      "|Bla          |10       |start|0                 |\n",
      "|Bla          |11       |start|4                 |\n",
      "|Bla          |12       |ende |4                 |\n",
      "|Bla          |13       |ende |4                 |\n",
      "|Bla          |14       |start|5                 |\n",
      "|Bla          |15       |ende |5                 |\n",
      "|Bla          |16       |ende |5                 |\n",
      "|Bla          |17       |ende |5                 |\n",
      "|Bla          |18       |start|6                 |\n",
      "|Bla          |19       |ende |6                 |\n",
      "+-------------+---------+-----+------------------+\n",
      "\n"
     ]
    }
   ],
   "source": [
    "df.select(\"machinenumber\", \"timestamp\", \"state\", \"ser_l_start_l_ende\").show(20, False)"
   ]
  },
  {
   "cell_type": "markdown",
   "metadata": {},
   "source": [
    "### Last Start , First ende"
   ]
  },
  {
   "cell_type": "code",
   "execution_count": 203,
   "metadata": {},
   "outputs": [],
   "source": [
    "df = df.withColumn(\"ser_l_start_f_ende\", df.ser.cast(IntegerType()))"
   ]
  },
  {
   "cell_type": "code",
   "execution_count": 204,
   "metadata": {},
   "outputs": [],
   "source": [
    "df = df.withColumn(\"ser_l_start_f_ende\", F.when((F.col(\"start\") == 1) & \\\n",
    "                                                (F.col(\"start_shift-\") == 1), 0)\\\n",
    "                                          .when((F.col(\"ende\") == 1) & \\\n",
    "                                                (F.col(\"ende_shift\") == 1), 0)\\\n",
    "                                          .otherwise(df.ser.cast(IntegerType())))"
   ]
  },
  {
   "cell_type": "code",
   "execution_count": 208,
   "metadata": {},
   "outputs": [
    {
     "name": "stdout",
     "output_type": "stream",
     "text": [
      "+-------------+---------+-----+------------------+\n",
      "|machinenumber|timestamp|state|ser_l_start_f_ende|\n",
      "+-------------+---------+-----+------------------+\n",
      "|Bla          |1        |ende |0                 |\n",
      "|Bla          |2        |start|1                 |\n",
      "|Bla          |3        |ende |1                 |\n",
      "|Bla          |4        |start|0                 |\n",
      "|Bla          |5        |start|0                 |\n",
      "|Bla          |6        |start|2                 |\n",
      "|Bla          |7        |ende |2                 |\n",
      "|Bla          |8        |start|3                 |\n",
      "|Bla          |9        |ende |3                 |\n",
      "|Bla          |10       |start|0                 |\n",
      "|Bla          |11       |start|4                 |\n",
      "|Bla          |12       |ende |4                 |\n",
      "|Bla          |13       |ende |0                 |\n",
      "|Bla          |14       |start|5                 |\n",
      "|Bla          |15       |ende |5                 |\n",
      "|Bla          |16       |ende |0                 |\n",
      "|Bla          |17       |ende |0                 |\n",
      "|Bla          |18       |start|6                 |\n",
      "|Bla          |19       |ende |6                 |\n",
      "+-------------+---------+-----+------------------+\n",
      "\n"
     ]
    }
   ],
   "source": [
    "df.select(\"machinenumber\", \"timestamp\", \"state\", \"ser_l_start_f_ende\").show(20, False)"
   ]
  },
  {
   "cell_type": "code",
   "execution_count": 209,
   "metadata": {},
   "outputs": [
    {
     "name": "stdout",
     "output_type": "stream",
     "text": [
      "+-------------+---------+----+\n",
      "|machinenumber|timestamp|iids|\n",
      "+-------------+---------+----+\n",
      "|Bla          |1        |0   |\n",
      "|Bla          |2        |1   |\n",
      "|Bla          |3        |1   |\n",
      "|Bla          |4        |0   |\n",
      "|Bla          |5        |0   |\n",
      "|Bla          |6        |2   |\n",
      "|Bla          |7        |2   |\n",
      "|Bla          |8        |3   |\n",
      "|Bla          |9        |3   |\n",
      "|Bla          |10       |0   |\n",
      "|Bla          |11       |4   |\n",
      "|Bla          |12       |4   |\n",
      "|Bla          |13       |0   |\n",
      "|Bla          |14       |5   |\n",
      "|Bla          |15       |5   |\n",
      "|Bla          |16       |0   |\n",
      "|Bla          |17       |0   |\n",
      "|Bla          |18       |6   |\n",
      "|Bla          |19       |6   |\n",
      "+-------------+---------+----+\n",
      "\n"
     ]
    }
   ],
   "source": [
    "df_seq.select(\"machinenumber\", \"timestamp\", \"iids\").show(20, False)"
   ]
  },
  {
   "cell_type": "code",
   "execution_count": null,
   "metadata": {},
   "outputs": [],
   "source": []
  }
 ],
 "metadata": {
  "kernelspec": {
   "display_name": "pywrangler_dev",
   "language": "python",
   "name": "pywrangler_dev"
  },
  "language_info": {
   "codemirror_mode": {
    "name": "ipython",
    "version": 3
   },
   "file_extension": ".py",
   "mimetype": "text/x-python",
   "name": "python",
   "nbconvert_exporter": "python",
   "pygments_lexer": "ipython3",
   "version": "3.6.9"
  }
 },
 "nbformat": 4,
 "nbformat_minor": 2
}
