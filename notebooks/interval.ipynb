{
 "cells": [
  {
   "cell_type": "code",
   "execution_count": 37,
   "metadata": {},
   "outputs": [
    {
     "name": "stdout",
     "output_type": "stream",
     "text": [
      "The autoreload extension is already loaded. To reload it, use:\n",
      "  %reload_ext autoreload\n"
     ]
    }
   ],
   "source": [
    "%load_ext autoreload\n",
    "%autoreload 2"
   ]
  },
  {
   "cell_type": "code",
   "execution_count": 38,
   "metadata": {},
   "outputs": [],
   "source": [
    "import sys\n",
    "import pandas as pd\n",
    "\n",
    "from pyspark.sql import functions as F\n",
    "from pyspark.sql import SparkSession, Window\n",
    "from pyspark.sql.types import IntegerType, NullType\n",
    "\n",
    "\n",
    "from pywrangler.pyspark.wranglers import interval_identifier"
   ]
  },
  {
   "cell_type": "code",
   "execution_count": 39,
   "metadata": {},
   "outputs": [],
   "source": [
    "PATH = r\"C:\\Users\\rasboldt\\Desktop\\software\\pywrangler\\notebooks\\oscillation_timeseries.csv\""
   ]
  },
  {
   "cell_type": "code",
   "execution_count": 40,
   "metadata": {},
   "outputs": [],
   "source": [
    "spark = SparkSession.Builder().appName(\"Oscillation\").getOrCreate()"
   ]
  },
  {
   "cell_type": "code",
   "execution_count": 41,
   "metadata": {},
   "outputs": [],
   "source": [
    "df_all = spark.read.csv(PATH, sep=\";\", header=True)"
   ]
  },
  {
   "cell_type": "code",
   "execution_count": 42,
   "metadata": {},
   "outputs": [],
   "source": [
    "df = df_all.select(\"machinenumber\", \"timestamp\", \"state\")\\\n",
    "           .withColumn(\"timestamp\", F.col(\"timestamp\").cast(IntegerType()))"
   ]
  },
  {
   "cell_type": "markdown",
   "metadata": {},
   "source": [
    "### Show Data"
   ]
  },
  {
   "cell_type": "code",
   "execution_count": 43,
   "metadata": {},
   "outputs": [
    {
     "name": "stdout",
     "output_type": "stream",
     "text": [
      "+-------------+---------+-----+\n",
      "|machinenumber|timestamp|state|\n",
      "+-------------+---------+-----+\n",
      "|Bla          |1        |ende |\n",
      "|Bla          |2        |noise|\n",
      "|Bla          |3        |start|\n",
      "|Bla          |4        |noise|\n",
      "|Bla          |5        |noise|\n",
      "|Bla          |6        |ende |\n",
      "|Bla          |7        |start|\n",
      "|Bla          |8        |start|\n",
      "|Bla          |9        |noise|\n",
      "|Bla          |10       |noise|\n",
      "|Bla          |11       |start|\n",
      "|Bla          |12       |ende |\n",
      "|Bla          |13       |noise|\n",
      "|Bla          |14       |noise|\n",
      "|Bla          |15       |start|\n",
      "|Bla          |16       |ende |\n",
      "|Bla          |17       |start|\n",
      "|Bla          |18       |start|\n",
      "|Bla          |19       |noise|\n",
      "|Bla          |20       |noise|\n",
      "|Bla          |21       |ende |\n",
      "|Bla          |22       |noise|\n",
      "|Bla          |23       |noise|\n",
      "|Bla          |24       |ende |\n",
      "|Bla          |25       |start|\n",
      "|Bla          |26       |ende |\n",
      "|Bla          |27       |noise|\n",
      "|Bla          |28       |ende |\n",
      "|Bla          |29       |ende |\n",
      "|Bla          |30       |noise|\n",
      "|Bla          |31       |start|\n",
      "|Bla          |32       |ende |\n",
      "+-------------+---------+-----+\n",
      "only showing top 32 rows\n",
      "\n"
     ]
    }
   ],
   "source": [
    "df.show(32, False)"
   ]
  },
  {
   "cell_type": "markdown",
   "metadata": {},
   "source": [
    "### Last start, last end interval"
   ]
  },
  {
   "cell_type": "code",
   "execution_count": 44,
   "metadata": {},
   "outputs": [],
   "source": [
    "ls_le = interval_identifier.VectorizedCumSum(marker_column=\"state\", \n",
    "                                     marker_start=\"start\",\n",
    "                                     marker_end=\"ende\",\n",
    "                                     marker_start_use_first=False,\n",
    "                                     marker_end_use_first=False,           \n",
    "                                     order_columns=[\"timestamp\"], \n",
    "                                     groupby_columns=[\"machinenumber\"])\\\n",
    "                              .transform(df)"
   ]
  },
  {
   "cell_type": "code",
   "execution_count": 45,
   "metadata": {},
   "outputs": [
    {
     "name": "stdout",
     "output_type": "stream",
     "text": [
      "+-------------+---------+-----+----+\n",
      "|machinenumber|timestamp|state|iids|\n",
      "+-------------+---------+-----+----+\n",
      "|Bla          |1        |ende |0   |\n",
      "|Bla          |2        |noise|0   |\n",
      "|Bla          |3        |start|19  |\n",
      "|Bla          |4        |noise|19  |\n",
      "|Bla          |5        |noise|19  |\n",
      "|Bla          |6        |ende |19  |\n",
      "|Bla          |7        |start|0   |\n",
      "|Bla          |8        |start|0   |\n",
      "|Bla          |9        |noise|0   |\n",
      "|Bla          |10       |noise|0   |\n",
      "|Bla          |11       |start|13  |\n",
      "|Bla          |12       |ende |13  |\n",
      "|Bla          |13       |noise|0   |\n",
      "|Bla          |14       |noise|0   |\n",
      "|Bla          |15       |start|9   |\n",
      "|Bla          |16       |ende |9   |\n",
      "|Bla          |17       |start|0   |\n",
      "|Bla          |18       |start|6   |\n",
      "|Bla          |19       |noise|6   |\n",
      "|Bla          |20       |noise|6   |\n",
      "|Bla          |21       |ende |6   |\n",
      "|Bla          |22       |noise|6   |\n",
      "|Bla          |23       |noise|6   |\n",
      "|Bla          |24       |ende |6   |\n",
      "|Bla          |25       |start|4   |\n",
      "|Bla          |26       |ende |4   |\n",
      "|Bla          |27       |noise|4   |\n",
      "|Bla          |28       |ende |4   |\n",
      "|Bla          |29       |ende |4   |\n",
      "|Bla          |30       |noise|0   |\n",
      "|Bla          |31       |start|1   |\n",
      "|Bla          |32       |ende |1   |\n",
      "+-------------+---------+-----+----+\n",
      "\n"
     ]
    }
   ],
   "source": [
    "ls_le.filter(ls_le.machinenumber.isNotNull()).show(50, False)"
   ]
  },
  {
   "cell_type": "markdown",
   "metadata": {},
   "source": [
    "### First start, first end interval"
   ]
  },
  {
   "cell_type": "code",
   "execution_count": 46,
   "metadata": {},
   "outputs": [
    {
     "name": "stdout",
     "output_type": "stream",
     "text": [
      "+-------------+---------+-----+----+\n",
      "|machinenumber|timestamp|state|iids|\n",
      "+-------------+---------+-----+----+\n",
      "|Bla          |1        |ende |0   |\n",
      "|Bla          |2        |noise|0   |\n",
      "|Bla          |3        |start|4   |\n",
      "|Bla          |4        |noise|4   |\n",
      "|Bla          |5        |noise|4   |\n",
      "|Bla          |6        |ende |4   |\n",
      "|Bla          |7        |start|6   |\n",
      "|Bla          |8        |start|6   |\n",
      "|Bla          |9        |noise|6   |\n",
      "|Bla          |10       |noise|6   |\n",
      "|Bla          |11       |start|6   |\n",
      "|Bla          |12       |ende |6   |\n",
      "|Bla          |13       |noise|0   |\n",
      "|Bla          |14       |noise|0   |\n",
      "|Bla          |15       |start|10  |\n",
      "|Bla          |16       |ende |10  |\n",
      "|Bla          |17       |start|12  |\n",
      "|Bla          |18       |start|12  |\n",
      "|Bla          |19       |noise|12  |\n",
      "|Bla          |20       |noise|12  |\n",
      "|Bla          |21       |ende |12  |\n",
      "|Bla          |22       |noise|0   |\n",
      "|Bla          |23       |noise|0   |\n",
      "|Bla          |24       |ende |0   |\n",
      "|Bla          |25       |start|17  |\n",
      "|Bla          |26       |ende |17  |\n",
      "|Bla          |27       |noise|0   |\n",
      "|Bla          |28       |ende |0   |\n",
      "|Bla          |29       |ende |0   |\n",
      "|Bla          |30       |noise|0   |\n",
      "|Bla          |31       |start|23  |\n",
      "|Bla          |32       |ende |23  |\n",
      "+-------------+---------+-----+----+\n",
      "\n"
     ]
    }
   ],
   "source": [
    "fs_fe = interval_identifier.VectorizedCumSum(marker_column=\"state\", \n",
    "                                     marker_start=\"start\",\n",
    "                                     marker_end=\"ende\",\n",
    "                                     marker_start_use_first=True,\n",
    "                                     marker_end_use_first=True,           \n",
    "                                     order_columns=[\"timestamp\"], \n",
    "                                     groupby_columns=[\"machinenumber\"])\\\n",
    "                              .transform(df)\n",
    "\n",
    "fs_fe.filter(fs_fe.machinenumber.isNotNull()).show(50, False)"
   ]
  },
  {
   "cell_type": "markdown",
   "metadata": {},
   "source": [
    "### First start, last end interval"
   ]
  },
  {
   "cell_type": "code",
   "execution_count": 47,
   "metadata": {},
   "outputs": [
    {
     "name": "stdout",
     "output_type": "stream",
     "text": [
      "+-------------+---------+-----+----+\n",
      "|machinenumber|timestamp|state|iids|\n",
      "+-------------+---------+-----+----+\n",
      "|Bla          |1        |ende |0   |\n",
      "|Bla          |2        |noise|0   |\n",
      "|Bla          |3        |start|1   |\n",
      "|Bla          |4        |noise|1   |\n",
      "|Bla          |5        |noise|1   |\n",
      "|Bla          |6        |ende |1   |\n",
      "|Bla          |7        |start|2   |\n",
      "|Bla          |8        |start|2   |\n",
      "|Bla          |9        |noise|2   |\n",
      "|Bla          |10       |noise|2   |\n",
      "|Bla          |11       |start|2   |\n",
      "|Bla          |12       |ende |2   |\n",
      "|Bla          |13       |noise|0   |\n",
      "|Bla          |14       |noise|0   |\n",
      "|Bla          |15       |start|3   |\n",
      "|Bla          |16       |ende |3   |\n",
      "|Bla          |17       |start|4   |\n",
      "|Bla          |18       |start|4   |\n",
      "|Bla          |19       |noise|4   |\n",
      "|Bla          |20       |noise|4   |\n",
      "|Bla          |21       |ende |4   |\n",
      "|Bla          |22       |noise|4   |\n",
      "|Bla          |23       |noise|4   |\n",
      "|Bla          |24       |ende |4   |\n",
      "|Bla          |25       |start|5   |\n",
      "|Bla          |26       |ende |5   |\n",
      "|Bla          |27       |noise|5   |\n",
      "|Bla          |28       |ende |5   |\n",
      "|Bla          |29       |ende |5   |\n",
      "|Bla          |30       |noise|0   |\n",
      "|Bla          |31       |start|6   |\n",
      "|Bla          |32       |ende |6   |\n",
      "+-------------+---------+-----+----+\n",
      "\n"
     ]
    }
   ],
   "source": [
    "fs_le = interval_identifier.VectorizedCumSum(marker_column=\"state\", \n",
    "                                     marker_start=\"start\",\n",
    "                                     marker_end=\"ende\",\n",
    "                                     marker_start_use_first=True,\n",
    "                                     marker_end_use_first=False,           \n",
    "                                     order_columns=[\"timestamp\"], \n",
    "                                     groupby_columns=[\"machinenumber\"])\\\n",
    "                              .transform(df)\n",
    "\n",
    "fs_le.filter(fs_le.machinenumber.isNotNull()).show(50, False)"
   ]
  },
  {
   "cell_type": "markdown",
   "metadata": {},
   "source": [
    "### Last start, first end interval"
   ]
  },
  {
   "cell_type": "code",
   "execution_count": 48,
   "metadata": {},
   "outputs": [
    {
     "name": "stdout",
     "output_type": "stream",
     "text": [
      "+-------------+---------+-----+----+\n",
      "|machinenumber|timestamp|state|iids|\n",
      "+-------------+---------+-----+----+\n",
      "|Bla          |1        |ende |0   |\n",
      "|Bla          |2        |noise|0   |\n",
      "|Bla          |3        |start|1   |\n",
      "|Bla          |4        |noise|1   |\n",
      "|Bla          |5        |noise|1   |\n",
      "|Bla          |6        |ende |1   |\n",
      "|Bla          |7        |start|0   |\n",
      "|Bla          |8        |start|0   |\n",
      "|Bla          |9        |noise|0   |\n",
      "|Bla          |10       |noise|0   |\n",
      "|Bla          |11       |start|2   |\n",
      "|Bla          |12       |ende |2   |\n",
      "|Bla          |13       |noise|0   |\n",
      "|Bla          |14       |noise|0   |\n",
      "|Bla          |15       |start|3   |\n",
      "|Bla          |16       |ende |3   |\n",
      "|Bla          |17       |start|0   |\n",
      "|Bla          |18       |start|4   |\n",
      "|Bla          |19       |noise|4   |\n",
      "|Bla          |20       |noise|4   |\n",
      "|Bla          |21       |ende |4   |\n",
      "|Bla          |22       |noise|0   |\n",
      "|Bla          |23       |noise|0   |\n",
      "|Bla          |24       |ende |0   |\n",
      "|Bla          |25       |start|5   |\n",
      "|Bla          |26       |ende |5   |\n",
      "|Bla          |27       |noise|0   |\n",
      "|Bla          |28       |ende |0   |\n",
      "|Bla          |29       |ende |0   |\n",
      "|Bla          |30       |noise|0   |\n",
      "|Bla          |31       |start|6   |\n",
      "|Bla          |32       |ende |6   |\n",
      "+-------------+---------+-----+----+\n",
      "\n"
     ]
    }
   ],
   "source": [
    "ls_fe = interval_identifier.VectorizedCumSum(marker_column=\"state\", \n",
    "                                     marker_start=\"start\",\n",
    "                                     marker_end=\"ende\",\n",
    "                                     marker_start_use_first=False,\n",
    "                                     marker_end_use_first=True,           \n",
    "                                     order_columns=[\"timestamp\"], \n",
    "                                     groupby_columns=[\"machinenumber\"])\\\n",
    "                              .transform(df)\n",
    "\n",
    "ls_fe.filter(ls_fe.machinenumber.isNotNull()).show(50, False)"
   ]
  },
  {
   "cell_type": "markdown",
   "metadata": {},
   "source": [
    "### Other Data"
   ]
  },
  {
   "cell_type": "code",
   "execution_count": 4,
   "metadata": {},
   "outputs": [],
   "source": [
    "data = [[\"bla\", 1, \"end\"], \n",
    "        [\"bla\", 2, \"noise\"],\n",
    "\t\t[\"bla\", 3, \"start\"],\n",
    "\t\t[\"bla\", 4, \"noise\"],\n",
    "\t\t[\"bla\", 5, \"noise\"],\n",
    "\t\t[\"bla\", 6, \"noise\"],\n",
    "\t\t[\"bla\", 7, \"end\"],\n",
    "\t\t[\"bla\", 8, \"end\"],\n",
    "\t\t[\"bla\", 9, \"start\"],\n",
    "\t\t[\"bla\", 10, \"start\"],\n",
    "\t\t[\"bla\", 11, \"start\"],\n",
    "\t\t[\"bla\", 12, \"noise\"],\n",
    "\t\t[\"bla\", 13, \"end\"],\n",
    "\t\t[\"bla\", 14, \"start\"],\n",
    "\t\t[\"bla\", 15, \"noise\"],\n",
    "\t\t[\"bla\", 16, \"end\"],\n",
    "\t\t[\"bla\", 17, \"end\"],\n",
    "\t\t[\"bla\", 18, \"end\"]]"
   ]
  },
  {
   "cell_type": "code",
   "execution_count": 25,
   "metadata": {},
   "outputs": [],
   "source": [
    "data = [[\"bla\", 1, 2], \n",
    "        [\"bla\", 2, 3],\n",
    "\t\t[\"bla\", 3, 1],\n",
    "\t\t[\"bla\", 4, 3],\n",
    "\t\t[\"bla\", 5, 3],\n",
    "\t\t[\"bla\", 6, 3],\n",
    "\t\t[\"bla\", 7, 2],\n",
    "\t\t[\"bla\", 8, 2],\n",
    "\t\t[\"bla\", 9, 1],\n",
    "\t\t[\"bla\", 10, 1],\n",
    "\t\t[\"bla\", 11, 1],\n",
    "\t\t[\"bla\", 12, 3],\n",
    "\t\t[\"bla\", 13, 2],\n",
    "\t\t[\"bla\", 14, 1],\n",
    "\t\t[\"bla\", 15, 3],\n",
    "\t\t[\"bla\", 16, 2],\n",
    "\t\t[\"bla\", 17, 2],\n",
    "\t\t[\"bla\", 18, 2]]"
   ]
  },
  {
   "cell_type": "code",
   "execution_count": 30,
   "metadata": {},
   "outputs": [],
   "source": [
    "data = [[\"bla\", 1, \"start\"], \n",
    "        [\"bla\", 2, \"noise\"],\n",
    "\t\t[\"bla\", 3, \"start\"],\n",
    "\t\t[\"bla\", 4, \"noise\"],\n",
    "\t\t[\"bla\", 5, \"noise\"],\n",
    "\t\t[\"bla\", 6, \"noise\"],\n",
    "\t\t[\"bla\", 7, \"end\"],\n",
    "\t\t[\"bla\", 8, \"end\"],\n",
    "\t\t[\"bla\", 9, \"start\"],\n",
    "\t\t[\"bla\", 10, \"start\"],\n",
    "\t\t[\"bla\", 11, \"start\"],\n",
    "\t\t[\"bla\", 12, \"noise\"],\n",
    "\t\t[\"bla\", 13, \"end\"],\n",
    "\t\t[\"bla\", 14, \"start\"],\n",
    "\t\t[\"bla\", 15, \"noise\"],\n",
    "\t\t[\"bla\", 16, \"end\"],\n",
    "\t\t[\"bla\", 17, \"end\"],\n",
    "\t\t[\"bla\", 18, \"end\"]]"
   ]
  },
  {
   "cell_type": "code",
   "execution_count": 5,
   "metadata": {},
   "outputs": [
    {
     "name": "stdout",
     "output_type": "stream",
     "text": [
      "+-------------+---------+-----+\n",
      "|machinenumber|timestamp|state|\n",
      "+-------------+---------+-----+\n",
      "|bla          |1        |end  |\n",
      "|bla          |2        |noise|\n",
      "|bla          |3        |start|\n",
      "|bla          |4        |noise|\n",
      "|bla          |5        |noise|\n",
      "|bla          |6        |noise|\n",
      "|bla          |7        |end  |\n",
      "|bla          |8        |end  |\n",
      "|bla          |9        |start|\n",
      "|bla          |10       |start|\n",
      "|bla          |11       |start|\n",
      "|bla          |12       |noise|\n",
      "|bla          |13       |end  |\n",
      "|bla          |14       |start|\n",
      "|bla          |15       |noise|\n",
      "|bla          |16       |end  |\n",
      "|bla          |17       |end  |\n",
      "|bla          |18       |end  |\n",
      "+-------------+---------+-----+\n",
      "\n"
     ]
    }
   ],
   "source": [
    "df = pd.DataFrame(data=data, columns=[\"machinenumber\", \"timestamp\", \"state\"])\n",
    "df = spark.createDataFrame(df)\n",
    "df.show(50, False)"
   ]
  },
  {
   "cell_type": "code",
   "execution_count": 12,
   "metadata": {},
   "outputs": [],
   "source": [
    "sequence = interval_identifier.VectorizedCumSum(marker_column=\"state\", \n",
    "                                     marker_start=\"start\", \n",
    "                                     marker_end=\"end\", \n",
    "                                     order_columns=[\"timestamp\"], \n",
    "                                     groupby_columns=[\"machinenumber\"])"
   ]
  },
  {
   "cell_type": "code",
   "execution_count": 13,
   "metadata": {},
   "outputs": [
    {
     "name": "stdout",
     "output_type": "stream",
     "text": [
      "+-------------+---------+-----+----+\n",
      "|machinenumber|timestamp|state|iids|\n",
      "+-------------+---------+-----+----+\n",
      "|bla          |1        |end  |0   |\n",
      "|bla          |2        |noise|0   |\n",
      "|bla          |3        |start|7   |\n",
      "|bla          |4        |noise|7   |\n",
      "|bla          |5        |noise|7   |\n",
      "|bla          |6        |noise|7   |\n",
      "|bla          |7        |end  |7   |\n",
      "|bla          |8        |end  |7   |\n",
      "|bla          |9        |start|0   |\n",
      "|bla          |10       |start|0   |\n",
      "|bla          |11       |start|3   |\n",
      "|bla          |12       |noise|3   |\n",
      "|bla          |13       |end  |3   |\n",
      "|bla          |14       |start|1   |\n",
      "|bla          |15       |noise|1   |\n",
      "|bla          |16       |end  |1   |\n",
      "|bla          |17       |end  |1   |\n",
      "|bla          |18       |end  |1   |\n",
      "+-------------+---------+-----+----+\n",
      "\n"
     ]
    }
   ],
   "source": [
    "df_lsle = sequence.transform_last_start_last_end(df)\n",
    "df_lsle.show(50, False)"
   ]
  }
 ],
 "metadata": {
  "kernelspec": {
   "display_name": "pywrangler_dev",
   "language": "python",
   "name": "pywrangler_dev"
  },
  "language_info": {
   "codemirror_mode": {
    "name": "ipython",
    "version": 3
   },
   "file_extension": ".py",
   "mimetype": "text/x-python",
   "name": "python",
   "nbconvert_exporter": "python",
   "pygments_lexer": "ipython3",
   "version": "3.6.9"
  }
 },
 "nbformat": 4,
 "nbformat_minor": 2
}
